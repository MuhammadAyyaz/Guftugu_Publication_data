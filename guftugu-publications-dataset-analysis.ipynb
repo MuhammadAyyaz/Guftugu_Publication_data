{
 "cells": [
  {
   "cell_type": "markdown",
   "metadata": {
    "papermill": {
     "duration": 0.026291,
     "end_time": "2022-07-31T13:43:25.814561",
     "exception": false,
     "start_time": "2022-07-31T13:43:25.788270",
     "status": "completed"
    },
    "tags": []
   },
   "source": [
    "## Introduction\n",
    "Greetings from the Kaggle bot! This is an automatically-generated kernel with starter code demonstrating how to read in the data and begin exploring. If you're inspired to dig deeper, click the blue \"Fork Notebook\" button at the top of this kernel to begin editing."
   ]
  },
  {
   "cell_type": "markdown",
   "metadata": {
    "papermill": {
     "duration": 0.02502,
     "end_time": "2022-07-31T13:43:25.864692",
     "exception": false,
     "start_time": "2022-07-31T13:43:25.839672",
     "status": "completed"
    },
    "tags": []
   },
   "source": [
    "## Exploratory Analysis\n",
    "To begin this exploratory analysis, first import libraries "
   ]
  },
  {
   "cell_type": "code",
   "execution_count": 1,
   "metadata": {
    "_kg_hide-input": false,
    "collapsed": false,
    "execution": {
     "iopub.execute_input": "2022-07-31T13:43:25.918773Z",
     "iopub.status.busy": "2022-07-31T13:43:25.918148Z",
     "iopub.status.idle": "2022-07-31T13:43:26.777092Z",
     "shell.execute_reply": "2022-07-31T13:43:26.776292Z",
     "shell.execute_reply.started": "2022-07-31T13:33:48.160997Z"
    },
    "jupyter": {
     "outputs_hidden": false
    },
    "papermill": {
     "duration": 0.886826,
     "end_time": "2022-07-31T13:43:26.777220",
     "exception": false,
     "start_time": "2022-07-31T13:43:25.890394",
     "status": "completed"
    },
    "tags": []
   },
   "outputs": [],
   "source": [
    "from mpl_toolkits.mplot3d import Axes3D\n",
    "from sklearn.preprocessing import StandardScaler\n",
    "import matplotlib.pyplot as plt # plotting\n",
    "import numpy as np # linear algebra\n",
    "import os # accessing directory structure\n",
    "import pandas as pd # data processing, CSV file I/O (e.g. pd.read_csv)\n"
   ]
  },
  {
   "cell_type": "code",
   "execution_count": 2,
   "metadata": {
    "_kg_hide-input": false,
    "collapsed": false,
    "execution": {
     "iopub.execute_input": "2022-07-31T13:43:26.835650Z",
     "iopub.status.busy": "2022-07-31T13:43:26.834977Z",
     "iopub.status.idle": "2022-07-31T13:43:26.842771Z",
     "shell.execute_reply": "2022-07-31T13:43:26.843392Z",
     "shell.execute_reply.started": "2022-07-31T13:33:50.464295Z"
    },
    "jupyter": {
     "outputs_hidden": false
    },
    "papermill": {
     "duration": 0.039631,
     "end_time": "2022-07-31T13:43:26.843564",
     "exception": false,
     "start_time": "2022-07-31T13:43:26.803933",
     "status": "completed"
    },
    "tags": []
   },
   "outputs": [
    {
     "name": "stdout",
     "output_type": "stream",
     "text": [
      "/kaggle/input/GP Orders - 2.csv\n",
      "/kaggle/input/GP Orders - 4.csv\n",
      "/kaggle/input/GP Orders - 5.csv\n"
     ]
    }
   ],
   "source": [
    "for dirname, _, filenames in os.walk('/kaggle/input'):\n",
    "    for filename in filenames:\n",
    "        print(os.path.join(dirname, filename))\n"
   ]
  },
  {
   "cell_type": "markdown",
   "metadata": {
    "papermill": {
     "duration": 0.02511,
     "end_time": "2022-07-31T13:43:26.894632",
     "exception": false,
     "start_time": "2022-07-31T13:43:26.869522",
     "status": "completed"
    },
    "tags": []
   },
   "source": [
    "### Let's begin with data file: /kaggle/input/GP Orders - 2.csv"
   ]
  },
  {
   "cell_type": "code",
   "execution_count": 3,
   "metadata": {
    "execution": {
     "iopub.execute_input": "2022-07-31T13:43:26.948581Z",
     "iopub.status.busy": "2022-07-31T13:43:26.947965Z",
     "iopub.status.idle": "2022-07-31T13:43:27.042988Z",
     "shell.execute_reply": "2022-07-31T13:43:27.043524Z",
     "shell.execute_reply.started": "2022-07-31T13:33:52.968849Z"
    },
    "papermill": {
     "duration": 0.123521,
     "end_time": "2022-07-31T13:43:27.043680",
     "exception": false,
     "start_time": "2022-07-31T13:43:26.920159",
     "status": "completed"
    },
    "tags": []
   },
   "outputs": [
    {
     "data": {
      "text/html": [
       "<div>\n",
       "<style scoped>\n",
       "    .dataframe tbody tr th:only-of-type {\n",
       "        vertical-align: middle;\n",
       "    }\n",
       "\n",
       "    .dataframe tbody tr th {\n",
       "        vertical-align: top;\n",
       "    }\n",
       "\n",
       "    .dataframe thead th {\n",
       "        text-align: right;\n",
       "    }\n",
       "</style>\n",
       "<table border=\"1\" class=\"dataframe\">\n",
       "  <thead>\n",
       "    <tr style=\"text-align: right;\">\n",
       "      <th></th>\n",
       "      <th>Order Number</th>\n",
       "      <th>Order Status</th>\n",
       "      <th>Book Name</th>\n",
       "      <th>Order Date &amp; Time</th>\n",
       "      <th>City</th>\n",
       "      <th>Payment Method</th>\n",
       "      <th>Total items</th>\n",
       "      <th>Total weight (grams)</th>\n",
       "    </tr>\n",
       "  </thead>\n",
       "  <tbody>\n",
       "    <tr>\n",
       "      <th>0</th>\n",
       "      <td>307</td>\n",
       "      <td>Completed</td>\n",
       "      <td>Bitcoin Blockchain aur Crypto Currency - FREE ...</td>\n",
       "      <td>10/3/2019 15:03</td>\n",
       "      <td>faisalabad</td>\n",
       "      <td>NaN</td>\n",
       "      <td>2</td>\n",
       "      <td>200.0</td>\n",
       "    </tr>\n",
       "    <tr>\n",
       "      <th>1</th>\n",
       "      <td>308</td>\n",
       "      <td>Completed</td>\n",
       "      <td>Kaggle for Begginers</td>\n",
       "      <td>10/3/2019 15:54</td>\n",
       "      <td>Rawalpindi</td>\n",
       "      <td>Cash on Delivery (COD)</td>\n",
       "      <td>1</td>\n",
       "      <td>200.0</td>\n",
       "    </tr>\n",
       "    <tr>\n",
       "      <th>2</th>\n",
       "      <td>309</td>\n",
       "      <td>Completed</td>\n",
       "      <td>Kaggle for Begginers/Bitcoin Blockchain aur Cr...</td>\n",
       "      <td>10/3/2019 16:09</td>\n",
       "      <td>Hyderabad</td>\n",
       "      <td>Cash on Delivery (COD)</td>\n",
       "      <td>2</td>\n",
       "      <td>200.0</td>\n",
       "    </tr>\n",
       "    <tr>\n",
       "      <th>3</th>\n",
       "      <td>310</td>\n",
       "      <td>Cancelled</td>\n",
       "      <td>Kaggle for Begginers</td>\n",
       "      <td>10/3/2019 16:42</td>\n",
       "      <td>Rawalpindi</td>\n",
       "      <td>Cash on Delivery (COD)</td>\n",
       "      <td>1</td>\n",
       "      <td>200.0</td>\n",
       "    </tr>\n",
       "    <tr>\n",
       "      <th>4</th>\n",
       "      <td>311</td>\n",
       "      <td>Completed</td>\n",
       "      <td>Bit Coin Block Chain aur Crypto Currency بٹ کو...</td>\n",
       "      <td>10/3/2019 16:44</td>\n",
       "      <td>Karachi</td>\n",
       "      <td>Cash on Delivery (COD)</td>\n",
       "      <td>1</td>\n",
       "      <td>200.0</td>\n",
       "    </tr>\n",
       "  </tbody>\n",
       "</table>\n",
       "</div>"
      ],
      "text/plain": [
       "   Order Number Order Status  \\\n",
       "0           307    Completed   \n",
       "1           308    Completed   \n",
       "2           309    Completed   \n",
       "3           310    Cancelled   \n",
       "4           311    Completed   \n",
       "\n",
       "                                           Book Name Order Date & Time  \\\n",
       "0  Bitcoin Blockchain aur Crypto Currency - FREE ...   10/3/2019 15:03   \n",
       "1                               Kaggle for Begginers   10/3/2019 15:54   \n",
       "2  Kaggle for Begginers/Bitcoin Blockchain aur Cr...   10/3/2019 16:09   \n",
       "3                               Kaggle for Begginers   10/3/2019 16:42   \n",
       "4  Bit Coin Block Chain aur Crypto Currency بٹ کو...   10/3/2019 16:44   \n",
       "\n",
       "         City          Payment Method  Total items  Total weight (grams)  \n",
       "0  faisalabad                     NaN            2                 200.0  \n",
       "1  Rawalpindi  Cash on Delivery (COD)            1                 200.0  \n",
       "2   Hyderabad  Cash on Delivery (COD)            2                 200.0  \n",
       "3  Rawalpindi  Cash on Delivery (COD)            1                 200.0  \n",
       "4    Karachi   Cash on Delivery (COD)            1                 200.0  "
      ]
     },
     "execution_count": 3,
     "metadata": {},
     "output_type": "execute_result"
    }
   ],
   "source": [
    "data = pd.read_csv(\"/kaggle/input/GP Orders - 5.csv\")\n",
    "data.head()"
   ]
  },
  {
   "cell_type": "markdown",
   "metadata": {
    "papermill": {
     "duration": 0.025867,
     "end_time": "2022-07-31T13:43:27.095865",
     "exception": false,
     "start_time": "2022-07-31T13:43:27.069998",
     "status": "completed"
    },
    "tags": []
   },
   "source": [
    "# **Information About data**"
   ]
  },
  {
   "cell_type": "code",
   "execution_count": 4,
   "metadata": {
    "execution": {
     "iopub.execute_input": "2022-07-31T13:43:27.151753Z",
     "iopub.status.busy": "2022-07-31T13:43:27.151102Z",
     "iopub.status.idle": "2022-07-31T13:43:27.176493Z",
     "shell.execute_reply": "2022-07-31T13:43:27.175955Z",
     "shell.execute_reply.started": "2022-07-31T13:27:01.223497Z"
    },
    "papermill": {
     "duration": 0.053891,
     "end_time": "2022-07-31T13:43:27.176618",
     "exception": false,
     "start_time": "2022-07-31T13:43:27.122727",
     "status": "completed"
    },
    "tags": []
   },
   "outputs": [
    {
     "name": "stdout",
     "output_type": "stream",
     "text": [
      "<class 'pandas.core.frame.DataFrame'>\n",
      "RangeIndex: 19239 entries, 0 to 19238\n",
      "Data columns (total 8 columns):\n",
      " #   Column                Non-Null Count  Dtype  \n",
      "---  ------                --------------  -----  \n",
      " 0   Order Number          19239 non-null  int64  \n",
      " 1   Order Status          19239 non-null  object \n",
      " 2   Book Name             19237 non-null  object \n",
      " 3   Order Date & Time     19239 non-null  object \n",
      " 4   City                  19238 non-null  object \n",
      " 5   Payment Method        19229 non-null  object \n",
      " 6   Total items           19239 non-null  int64  \n",
      " 7   Total weight (grams)  19239 non-null  float64\n",
      "dtypes: float64(1), int64(2), object(5)\n",
      "memory usage: 1.2+ MB\n"
     ]
    }
   ],
   "source": [
    "data.info()"
   ]
  },
  {
   "cell_type": "code",
   "execution_count": 5,
   "metadata": {
    "execution": {
     "iopub.execute_input": "2022-07-31T13:43:27.234580Z",
     "iopub.status.busy": "2022-07-31T13:43:27.233607Z",
     "iopub.status.idle": "2022-07-31T13:43:27.240015Z",
     "shell.execute_reply": "2022-07-31T13:43:27.240614Z",
     "shell.execute_reply.started": "2022-07-31T13:34:00.076910Z"
    },
    "papermill": {
     "duration": 0.036609,
     "end_time": "2022-07-31T13:43:27.240751",
     "exception": false,
     "start_time": "2022-07-31T13:43:27.204142",
     "status": "completed"
    },
    "tags": []
   },
   "outputs": [
    {
     "data": {
      "text/plain": [
       "(19239, 7)"
      ]
     },
     "execution_count": 5,
     "metadata": {},
     "output_type": "execute_result"
    }
   ],
   "source": [
    "del data[\"Order Number\"]\n",
    "data.shape"
   ]
  },
  {
   "cell_type": "markdown",
   "metadata": {
    "papermill": {
     "duration": 0.026376,
     "end_time": "2022-07-31T13:43:27.293864",
     "exception": false,
     "start_time": "2022-07-31T13:43:27.267488",
     "status": "completed"
    },
    "tags": []
   },
   "source": [
    "# **Showing Order Status**"
   ]
  },
  {
   "cell_type": "code",
   "execution_count": 6,
   "metadata": {
    "execution": {
     "iopub.execute_input": "2022-07-31T13:43:27.351311Z",
     "iopub.status.busy": "2022-07-31T13:43:27.350326Z",
     "iopub.status.idle": "2022-07-31T13:43:27.362653Z",
     "shell.execute_reply": "2022-07-31T13:43:27.363203Z",
     "shell.execute_reply.started": "2022-07-31T13:27:48.379881Z"
    },
    "papermill": {
     "duration": 0.042731,
     "end_time": "2022-07-31T13:43:27.363342",
     "exception": false,
     "start_time": "2022-07-31T13:43:27.320611",
     "status": "completed"
    },
    "tags": []
   },
   "outputs": [
    {
     "data": {
      "text/plain": [
       "Completed    17948\n",
       "Returned      1142\n",
       "Cancelled      149\n",
       "Name: Order Status, dtype: int64"
      ]
     },
     "execution_count": 6,
     "metadata": {},
     "output_type": "execute_result"
    }
   ],
   "source": [
    "data[\"Order Status\"].value_counts()"
   ]
  },
  {
   "cell_type": "markdown",
   "metadata": {
    "papermill": {
     "duration": 0.026872,
     "end_time": "2022-07-31T13:43:27.417493",
     "exception": false,
     "start_time": "2022-07-31T13:43:27.390621",
     "status": "completed"
    },
    "tags": []
   },
   "source": [
    "# *Let's begin the data cleaning and processing*"
   ]
  },
  {
   "cell_type": "code",
   "execution_count": 7,
   "metadata": {
    "execution": {
     "iopub.execute_input": "2022-07-31T13:43:27.475362Z",
     "iopub.status.busy": "2022-07-31T13:43:27.474393Z",
     "iopub.status.idle": "2022-07-31T13:43:27.478138Z",
     "shell.execute_reply": "2022-07-31T13:43:27.478734Z",
     "shell.execute_reply.started": "2022-07-28T16:41:50.377778Z"
    },
    "papermill": {
     "duration": 0.03424,
     "end_time": "2022-07-31T13:43:27.478874",
     "exception": false,
     "start_time": "2022-07-31T13:43:27.444634",
     "status": "completed"
    },
    "tags": []
   },
   "outputs": [],
   "source": [
    "# data.rename(columns={\"City (Billing)\": \"City\"},inplace=True) # Renaming City (\"Billing\") column\n"
   ]
  },
  {
   "cell_type": "code",
   "execution_count": 8,
   "metadata": {
    "execution": {
     "iopub.execute_input": "2022-07-31T13:43:27.537012Z",
     "iopub.status.busy": "2022-07-31T13:43:27.536031Z",
     "iopub.status.idle": "2022-07-31T13:43:27.958861Z",
     "shell.execute_reply": "2022-07-31T13:43:27.959404Z",
     "shell.execute_reply.started": "2022-07-31T13:34:06.615440Z"
    },
    "papermill": {
     "duration": 0.453625,
     "end_time": "2022-07-31T13:43:27.959582",
     "exception": false,
     "start_time": "2022-07-31T13:43:27.505957",
     "status": "completed"
    },
    "tags": []
   },
   "outputs": [],
   "source": [
    "# In this cell I'm going to seperate date and time and store only date in date_new variable\n",
    "date_new = []\n",
    "time_new = []\n",
    "for i in range(len(data[\"Order Date & Time\"])):\n",
    "    date_new.append(data[\"Order Date & Time\"][i].split(\" \")[0])\n",
    "    time_new.append(data[\"Order Date & Time\"][i].split(\" \")[1])\n",
    "data[\"date\"] = pd.to_datetime(date_new) # here I'm going to make a new series for date from date_new list.\n",
    "del data[\"Order Date & Time\"] # This series is not needed anymore \n"
   ]
  },
  {
   "cell_type": "code",
   "execution_count": 9,
   "metadata": {
    "execution": {
     "iopub.execute_input": "2022-07-31T13:43:28.018228Z",
     "iopub.status.busy": "2022-07-31T13:43:28.017177Z",
     "iopub.status.idle": "2022-07-31T13:43:28.023079Z",
     "shell.execute_reply": "2022-07-31T13:43:28.023664Z",
     "shell.execute_reply.started": "2022-07-28T16:43:39.918065Z"
    },
    "papermill": {
     "duration": 0.036857,
     "end_time": "2022-07-31T13:43:28.023809",
     "exception": false,
     "start_time": "2022-07-31T13:43:27.986952",
     "status": "completed"
    },
    "tags": []
   },
   "outputs": [],
   "source": [
    "tim=set(time_new)\n"
   ]
  },
  {
   "cell_type": "code",
   "execution_count": 10,
   "metadata": {
    "execution": {
     "iopub.execute_input": "2022-07-31T13:43:28.082510Z",
     "iopub.status.busy": "2022-07-31T13:43:28.081531Z",
     "iopub.status.idle": "2022-07-31T13:43:28.573183Z",
     "shell.execute_reply": "2022-07-31T13:43:28.573861Z",
     "shell.execute_reply.started": "2022-07-31T13:34:20.541951Z"
    },
    "papermill": {
     "duration": 0.522608,
     "end_time": "2022-07-31T13:43:28.574011",
     "exception": false,
     "start_time": "2022-07-31T13:43:28.051403",
     "status": "completed"
    },
    "tags": []
   },
   "outputs": [],
   "source": [
    "# Now I'm extracting only month and year from date\n",
    "date = []\n",
    "for i in range(len(data['date'])):\n",
    "    new = data[\"date\"][i].to_pydatetime()\n",
    "    month = str(new.month)\n",
    "    year = str(new.year)\n",
    "    date.append(month+\"/\"+year)\n",
    "data[\"date\"] = date\n",
    "data.dropna(how=\"any\",axis = 0 , inplace=True)"
   ]
  },
  {
   "cell_type": "code",
   "execution_count": 11,
   "metadata": {
    "execution": {
     "iopub.execute_input": "2022-07-31T13:43:28.637508Z",
     "iopub.status.busy": "2022-07-31T13:43:28.636497Z",
     "iopub.status.idle": "2022-07-31T13:43:28.676664Z",
     "shell.execute_reply": "2022-07-31T13:43:28.677205Z",
     "shell.execute_reply.started": "2022-07-31T13:42:04.424149Z"
    },
    "papermill": {
     "duration": 0.076082,
     "end_time": "2022-07-31T13:43:28.677353",
     "exception": false,
     "start_time": "2022-07-31T13:43:28.601271",
     "status": "completed"
    },
    "tags": []
   },
   "outputs": [
    {
     "data": {
      "text/plain": [
       "Index(['Order Status', 'Book Name', 'City', 'Payment Method', 'Total items',\n",
       "       'Total weight (grams)', 'date'],\n",
       "      dtype='object')"
      ]
     },
     "execution_count": 11,
     "metadata": {},
     "output_type": "execute_result"
    }
   ],
   "source": [
    "data[\"City\"]=data[\"City\"].str.title() # Making a standard string for Cities\n",
    "data[\"City\"]=data[\"City\"].str.replace(r\"?\",\"\")# catering missing values\n",
    "data.columns"
   ]
  },
  {
   "cell_type": "code",
   "execution_count": 12,
   "metadata": {
    "execution": {
     "iopub.execute_input": "2022-07-31T13:43:28.742559Z",
     "iopub.status.busy": "2022-07-31T13:43:28.741863Z",
     "iopub.status.idle": "2022-07-31T13:43:28.744091Z",
     "shell.execute_reply": "2022-07-31T13:43:28.744633Z",
     "shell.execute_reply.started": "2022-07-31T13:34:32.537388Z"
    },
    "papermill": {
     "duration": 0.035912,
     "end_time": "2022-07-31T13:43:28.744771",
     "exception": false,
     "start_time": "2022-07-31T13:43:28.708859",
     "status": "completed"
    },
    "tags": []
   },
   "outputs": [],
   "source": [
    "data.rename(columns={\"Total weight (grams)\":\"Weight(grams)\"},inplace=True)"
   ]
  },
  {
   "cell_type": "code",
   "execution_count": 13,
   "metadata": {
    "execution": {
     "iopub.execute_input": "2022-07-31T13:43:28.810194Z",
     "iopub.status.busy": "2022-07-31T13:43:28.809161Z",
     "iopub.status.idle": "2022-07-31T13:43:28.821273Z",
     "shell.execute_reply": "2022-07-31T13:43:28.821904Z",
     "shell.execute_reply.started": "2022-07-31T13:38:43.969917Z"
    },
    "papermill": {
     "duration": 0.049255,
     "end_time": "2022-07-31T13:43:28.822061",
     "exception": false,
     "start_time": "2022-07-31T13:43:28.772806",
     "status": "completed"
    },
    "tags": []
   },
   "outputs": [],
   "source": [
    "data[\"Total items\"].value_counts()\n",
    "# data[data[\"Total items\"] ==80022 ]\n",
    "# data[data[\"Total items\"] ==440 ]\n",
    "data.drop(data[data[\"Total items\"] > 440].index, inplace=True)"
   ]
  },
  {
   "cell_type": "code",
   "execution_count": 14,
   "metadata": {
    "execution": {
     "iopub.execute_input": "2022-07-31T13:43:28.899432Z",
     "iopub.status.busy": "2022-07-31T13:43:28.898325Z",
     "iopub.status.idle": "2022-07-31T13:43:28.910459Z",
     "shell.execute_reply": "2022-07-31T13:43:28.911006Z",
     "shell.execute_reply.started": "2022-07-31T13:40:15.728498Z"
    },
    "papermill": {
     "duration": 0.047361,
     "end_time": "2022-07-31T13:43:28.911146",
     "exception": false,
     "start_time": "2022-07-31T13:43:28.863785",
     "status": "completed"
    },
    "tags": []
   },
   "outputs": [
    {
     "data": {
      "text/plain": [
       "1      14744\n",
       "2       1660\n",
       "3        855\n",
       "4        553\n",
       "5        431\n",
       "6        284\n",
       "7        172\n",
       "8        117\n",
       "9         91\n",
       "10        64\n",
       "11        53\n",
       "12        48\n",
       "14        23\n",
       "13        19\n",
       "16        16\n",
       "15        14\n",
       "17         9\n",
       "20         9\n",
       "18         7\n",
       "22         7\n",
       "19         5\n",
       "21         4\n",
       "106        3\n",
       "26         3\n",
       "55         3\n",
       "23         3\n",
       "32         2\n",
       "31         2\n",
       "39         2\n",
       "56         2\n",
       "29         2\n",
       "194        1\n",
       "30         1\n",
       "93         1\n",
       "369        1\n",
       "28         1\n",
       "27         1\n",
       "50         1\n",
       "66         1\n",
       "150        1\n",
       "24         1\n",
       "25         1\n",
       "35         1\n",
       "440        1\n",
       "280        1\n",
       "100        1\n",
       "40         1\n",
       "101        1\n",
       "41         1\n",
       "Name: Total items, dtype: int64"
      ]
     },
     "execution_count": 14,
     "metadata": {},
     "output_type": "execute_result"
    }
   ],
   "source": [
    "import statistics\n",
    "from scipy.stats import norm\n",
    "data[\"Total items\"].value_counts()"
   ]
  },
  {
   "cell_type": "code",
   "execution_count": 15,
   "metadata": {
    "execution": {
     "iopub.execute_input": "2022-07-31T13:43:28.971195Z",
     "iopub.status.busy": "2022-07-31T13:43:28.970192Z",
     "iopub.status.idle": "2022-07-31T13:43:28.999138Z",
     "shell.execute_reply": "2022-07-31T13:43:28.999958Z",
     "shell.execute_reply.started": "2022-07-31T13:42:17.936633Z"
    },
    "papermill": {
     "duration": 0.061046,
     "end_time": "2022-07-31T13:43:29.000223",
     "exception": false,
     "start_time": "2022-07-31T13:43:28.939177",
     "status": "completed"
    },
    "tags": []
   },
   "outputs": [
    {
     "data": {
      "text/plain": [
       "Karachi           2679\n",
       "Lahore            2183\n",
       "Islamabad          946\n",
       "Rawalpindi         696\n",
       "Faisalabad         524\n",
       "Peshawar           493\n",
       "Multan             464\n",
       "Gujranwala         278\n",
       "Hyderabad          265\n",
       "Quetta             252\n",
       "Sialkot            239\n",
       "Bahawalpur         187\n",
       "Rahim Yar Khan     150\n",
       "Sargodha           144\n",
       "Sahiwal            115\n",
       "Gujrat             113\n",
       "Abbottabad         103\n",
       "Okara              103\n",
       "Sheikhupura         97\n",
       "Mardan              89\n",
       "Name: City, dtype: int64"
      ]
     },
     "execution_count": 15,
     "metadata": {},
     "output_type": "execute_result"
    }
   ],
   "source": [
    "data[\"Book Name\"].value_counts().head(20)\n",
    "order_dates = list(data.date.unique())\n",
    "data.City.value_counts().head(20)"
   ]
  },
  {
   "cell_type": "code",
   "execution_count": 16,
   "metadata": {
    "execution": {
     "iopub.execute_input": "2022-07-31T13:43:29.078394Z",
     "iopub.status.busy": "2022-07-31T13:43:29.073849Z",
     "iopub.status.idle": "2022-07-31T13:43:29.093146Z",
     "shell.execute_reply": "2022-07-31T13:43:29.093776Z",
     "shell.execute_reply.started": "2022-07-31T13:42:31.762481Z"
    },
    "papermill": {
     "duration": 0.055206,
     "end_time": "2022-07-31T13:43:29.093936",
     "exception": false,
     "start_time": "2022-07-31T13:43:29.038730",
     "status": "completed"
    },
    "tags": []
   },
   "outputs": [],
   "source": [
    "multiple_books_order=data[(data[\"Book Name\"].str.contains(\"/\",regex = False))  & (data[\"Order Status\"]== \"Completed\")]\n",
    "# data[\"Book Name\"].dropna(inplace=True)\n",
    "# data.dropna(how = \"any\", axis=0,inplace=True)"
   ]
  },
  {
   "cell_type": "code",
   "execution_count": 17,
   "metadata": {
    "execution": {
     "iopub.execute_input": "2022-07-31T13:43:29.154882Z",
     "iopub.status.busy": "2022-07-31T13:43:29.154167Z",
     "iopub.status.idle": "2022-07-31T13:43:29.164819Z",
     "shell.execute_reply": "2022-07-31T13:43:29.165366Z",
     "shell.execute_reply.started": "2022-07-31T13:42:40.676943Z"
    },
    "papermill": {
     "duration": 0.042406,
     "end_time": "2022-07-31T13:43:29.165526",
     "exception": false,
     "start_time": "2022-07-31T13:43:29.123120",
     "status": "completed"
    },
    "tags": []
   },
   "outputs": [
    {
     "data": {
      "text/plain": [
       "(C++) ++سی/سی                                                                                       199\n",
       "Python Programming/R ka Taaruf                                                                       23\n",
       "Artificial Intelligence/Data Science                                                                 18\n",
       "انٹرنیٹ سے پیسہ کمائیں/Blockchain, Cryptocurrency And Bitcoin                                        18\n",
       "Artificial Intelligence/Python Programming                                                           17\n",
       "                                                                                                   ... \n",
       "Artificial Intelligence/Python Programming/ڈیٹا سائنس/مشین لرننگ/21 Lessons for the 21st Century      1\n",
       "انٹرنیٹ سے پیسہ کمائیں/ڈیٹا سائنس/(C++)                                                               1\n",
       "Artificial Intelligence/Introduction to Blockchain with Case Studies/Data Science                     1\n",
       "ڈیٹا سائنس ۔ ایک تعارف/Kaggle for Begginers/R ka Taaruf  آر کا تعارف                                  1\n",
       "مشین لرننگ/انٹرنیٹ سے پیسہ کمائیں/Python Programming                                                  1\n",
       "Name: Book Name, Length: 2988, dtype: int64"
      ]
     },
     "execution_count": 17,
     "metadata": {},
     "output_type": "execute_result"
    }
   ],
   "source": [
    "multiple_books_order[\"Book Name\"].value_counts()"
   ]
  },
  {
   "cell_type": "markdown",
   "metadata": {
    "papermill": {
     "duration": 0.028529,
     "end_time": "2022-07-31T13:43:29.223743",
     "exception": false,
     "start_time": "2022-07-31T13:43:29.195214",
     "status": "completed"
    },
    "tags": []
   },
   "source": [
    "**checking total orders by months**"
   ]
  },
  {
   "cell_type": "code",
   "execution_count": 18,
   "metadata": {
    "execution": {
     "iopub.execute_input": "2022-07-31T13:43:29.285063Z",
     "iopub.status.busy": "2022-07-31T13:43:29.284354Z",
     "iopub.status.idle": "2022-07-31T13:43:29.502109Z",
     "shell.execute_reply": "2022-07-31T13:43:29.501561Z",
     "shell.execute_reply.started": "2022-07-28T16:52:54.918252Z"
    },
    "papermill": {
     "duration": 0.249262,
     "end_time": "2022-07-31T13:43:29.502221",
     "exception": false,
     "start_time": "2022-07-31T13:43:29.252959",
     "status": "completed"
    },
    "tags": []
   },
   "outputs": [
    {
     "name": "stdout",
     "output_type": "stream",
     "text": [
      "10/2019 : 7\n",
      "11/2019 : 29\n",
      "12/2019 : 414\n",
      "1/2020 : 734\n",
      "2/2020 : 59\n",
      "3/2020 : 82\n",
      "4/2020 : 152\n",
      "5/2020 : 1490\n",
      "6/2020 : 1121\n",
      "7/2020 : 1305\n",
      "8/2020 : 2445\n",
      "9/2020 : 1540\n",
      "10/2020 : 2082\n",
      "11/2020 : 2708\n",
      "12/2020 : 2387\n",
      "1/2021 : 2670\n"
     ]
    }
   ],
   "source": [
    "num_of_order_by_dates =[]\n",
    "for i in order_dates:\n",
    "    num_of_order_by_dates.append(sum(data[\"Book Name\"].where(data[\"date\"]== i).value_counts()))\n",
    "    print(i+ \" :\", sum(data[\"Book Name\"].where(data[\"date\"]== i).value_counts()))"
   ]
  },
  {
   "cell_type": "code",
   "execution_count": 19,
   "metadata": {
    "execution": {
     "iopub.execute_input": "2022-07-31T13:43:29.573039Z",
     "iopub.status.busy": "2022-07-31T13:43:29.569248Z",
     "iopub.status.idle": "2022-07-31T13:43:29.585670Z",
     "shell.execute_reply": "2022-07-31T13:43:29.584997Z",
     "shell.execute_reply.started": "2022-07-28T16:54:05.115236Z"
    },
    "papermill": {
     "duration": 0.054443,
     "end_time": "2022-07-31T13:43:29.585791",
     "exception": false,
     "start_time": "2022-07-31T13:43:29.531348",
     "status": "completed"
    },
    "tags": []
   },
   "outputs": [
    {
     "data": {
      "text/html": [
       "<div>\n",
       "<style scoped>\n",
       "    .dataframe tbody tr th:only-of-type {\n",
       "        vertical-align: middle;\n",
       "    }\n",
       "\n",
       "    .dataframe tbody tr th {\n",
       "        vertical-align: top;\n",
       "    }\n",
       "\n",
       "    .dataframe thead th {\n",
       "        text-align: right;\n",
       "    }\n",
       "</style>\n",
       "<table border=\"1\" class=\"dataframe\">\n",
       "  <thead>\n",
       "    <tr style=\"text-align: right;\">\n",
       "      <th></th>\n",
       "      <th>Order Status</th>\n",
       "      <th>Book Name</th>\n",
       "      <th>City</th>\n",
       "      <th>Payment Method</th>\n",
       "      <th>Total items</th>\n",
       "      <th>Weight(grams)</th>\n",
       "      <th>date</th>\n",
       "    </tr>\n",
       "  </thead>\n",
       "  <tbody>\n",
       "  </tbody>\n",
       "</table>\n",
       "</div>"
      ],
      "text/plain": [
       "Empty DataFrame\n",
       "Columns: [Order Status, Book Name, City, Payment Method, Total items, Weight(grams), date]\n",
       "Index: []"
      ]
     },
     "execution_count": 19,
     "metadata": {},
     "output_type": "execute_result"
    }
   ],
   "source": [
    "data[\"City\"].value_counts().head(10)\n",
    "data[data.City.isnull()]"
   ]
  },
  {
   "cell_type": "code",
   "execution_count": 20,
   "metadata": {
    "execution": {
     "iopub.execute_input": "2022-07-31T13:43:29.672844Z",
     "iopub.status.busy": "2022-07-31T13:43:29.662821Z",
     "iopub.status.idle": "2022-07-31T13:43:29.677466Z",
     "shell.execute_reply": "2022-07-31T13:43:29.676823Z",
     "shell.execute_reply.started": "2022-07-28T16:54:22.298464Z"
    },
    "papermill": {
     "duration": 0.060715,
     "end_time": "2022-07-31T13:43:29.677586",
     "exception": false,
     "start_time": "2022-07-31T13:43:29.616871",
     "status": "completed"
    },
    "tags": []
   },
   "outputs": [
    {
     "data": {
      "text/plain": [
       "Book Name              \n",
       "Lucky Draw - Free Book     62\n",
       "انٹرنیٹ سے پیسہ کمائیں     40\n",
       "ڈیٹا سائنس                 16\n",
       "Python Programming         12\n",
       "Artificial Intelligence     9\n",
       "dtype: int64"
      ]
     },
     "execution_count": 20,
     "metadata": {},
     "output_type": "execute_result"
    }
   ],
   "source": [
    "filter_1 = data[\"date\"]=='1/2021'\n",
    "filter_2 = data[\"City\"] == \"Karachi\"\n",
    "\n",
    "data.loc[(filter_1 & filter_2) & (data[\"Order Status\"]== \"Completed\"),[\"Book Name\"]].value_counts().head()"
   ]
  },
  {
   "cell_type": "code",
   "execution_count": 21,
   "metadata": {
    "execution": {
     "iopub.execute_input": "2022-07-31T13:43:29.751189Z",
     "iopub.status.busy": "2022-07-31T13:43:29.750545Z",
     "iopub.status.idle": "2022-07-31T13:43:29.755010Z",
     "shell.execute_reply": "2022-07-31T13:43:29.754465Z",
     "shell.execute_reply.started": "2022-07-25T09:28:02.500180Z"
    },
    "papermill": {
     "duration": 0.047415,
     "end_time": "2022-07-31T13:43:29.755123",
     "exception": false,
     "start_time": "2022-07-31T13:43:29.707708",
     "status": "completed"
    },
    "tags": []
   },
   "outputs": [
    {
     "data": {
      "text/plain": [
       "11/2020    2708\n",
       "1/2021     2670\n",
       "8/2020     2445\n",
       "12/2020    2387\n",
       "10/2020    2082\n",
       "9/2020     1540\n",
       "5/2020     1490\n",
       "7/2020     1305\n",
       "6/2020     1121\n",
       "1/2020      734\n",
       "12/2019     414\n",
       "4/2020      152\n",
       "3/2020       82\n",
       "2/2020       59\n",
       "11/2019      29\n",
       "10/2019       7\n",
       "Name: date, dtype: int64"
      ]
     },
     "execution_count": 21,
     "metadata": {},
     "output_type": "execute_result"
    }
   ],
   "source": [
    "\n",
    "data['date'].value_counts()"
   ]
  },
  {
   "cell_type": "markdown",
   "metadata": {
    "papermill": {
     "duration": 0.030046,
     "end_time": "2022-07-31T13:43:29.815554",
     "exception": false,
     "start_time": "2022-07-31T13:43:29.785508",
     "status": "completed"
    },
    "tags": []
   },
   "source": [
    "### "
   ]
  },
  {
   "cell_type": "markdown",
   "metadata": {
    "papermill": {
     "duration": 0.030273,
     "end_time": "2022-07-31T13:43:29.876618",
     "exception": false,
     "start_time": "2022-07-31T13:43:29.846345",
     "status": "completed"
    },
    "tags": []
   },
   "source": []
  },
  {
   "cell_type": "markdown",
   "metadata": {
    "papermill": {
     "duration": 0.029913,
     "end_time": "2022-07-31T13:43:29.937511",
     "exception": false,
     "start_time": "2022-07-31T13:43:29.907598",
     "status": "completed"
    },
    "tags": []
   },
   "source": [
    "Let's take a quick look at what the data looks like:"
   ]
  },
  {
   "cell_type": "code",
   "execution_count": 22,
   "metadata": {
    "execution": {
     "iopub.execute_input": "2022-07-31T13:43:30.007987Z",
     "iopub.status.busy": "2022-07-31T13:43:30.007252Z",
     "iopub.status.idle": "2022-07-31T13:43:30.040993Z",
     "shell.execute_reply": "2022-07-31T13:43:30.041471Z",
     "shell.execute_reply.started": "2022-07-25T09:31:20.038725Z"
    },
    "papermill": {
     "duration": 0.074019,
     "end_time": "2022-07-31T13:43:30.041620",
     "exception": false,
     "start_time": "2022-07-31T13:43:29.967601",
     "status": "completed"
    },
    "tags": []
   },
   "outputs": [
    {
     "data": {
      "text/plain": [
       "Completed    17937\n",
       "Returned      1139\n",
       "Cancelled      149\n",
       "Name: Order Status, dtype: int64"
      ]
     },
     "execution_count": 22,
     "metadata": {},
     "output_type": "execute_result"
    }
   ],
   "source": [
    "completed_orders = data.loc[(data[\"City\"]== \"Karachi\")&(data[\"Order Status\"] == \"Completed\")].value_counts()\n",
    "returned_orders = data.loc[(data[\"City\"]== \"Karachi\")&(data[\"Order Status\"] == \"Returned\")].value_counts()\n",
    "# print(f'Completed Orders: {completed_orders} & Returned Orders: {returned_orders}')\n",
    "data[\"Order Status\"].value_counts()\n"
   ]
  },
  {
   "cell_type": "code",
   "execution_count": 23,
   "metadata": {
    "execution": {
     "iopub.execute_input": "2022-07-31T13:43:30.106296Z",
     "iopub.status.busy": "2022-07-31T13:43:30.105668Z",
     "iopub.status.idle": "2022-07-31T13:43:30.121366Z",
     "shell.execute_reply": "2022-07-31T13:43:30.120791Z",
     "shell.execute_reply.started": "2022-07-25T10:44:58.224741Z"
    },
    "papermill": {
     "duration": 0.049087,
     "end_time": "2022-07-31T13:43:30.121495",
     "exception": false,
     "start_time": "2022-07-31T13:43:30.072408",
     "status": "completed"
    },
    "tags": []
   },
   "outputs": [
    {
     "data": {
      "text/plain": [
       "انٹرنیٹ سے پیسہ کمائیں                    2578\n",
       "Python Programming                        1540\n",
       "Blockchain, Cryptocurrency And Bitcoin    1067\n",
       "Product Management                        1041\n",
       "Artificial Intelligence                    900\n",
       "Justju ka safar-1                          881\n",
       "ڈیٹا سائنس ۔ ایک تعارف                     495\n",
       "Lucky Draw - Free Book                     487\n",
       "Molo Masali                                422\n",
       "Column Nigari Kese Sekhain                 418\n",
       "Name: Book Name, dtype: int64"
      ]
     },
     "execution_count": 23,
     "metadata": {},
     "output_type": "execute_result"
    }
   ],
   "source": [
    "data[\"Book Name\"].value_counts().head(10)"
   ]
  },
  {
   "cell_type": "code",
   "execution_count": 24,
   "metadata": {
    "execution": {
     "iopub.execute_input": "2022-07-31T13:43:30.190924Z",
     "iopub.status.busy": "2022-07-31T13:43:30.189929Z",
     "iopub.status.idle": "2022-07-31T13:43:30.237873Z",
     "shell.execute_reply": "2022-07-31T13:43:30.236742Z",
     "shell.execute_reply.started": "2022-07-25T10:59:48.606653Z"
    },
    "papermill": {
     "duration": 0.085724,
     "end_time": "2022-07-31T13:43:30.238053",
     "exception": false,
     "start_time": "2022-07-31T13:43:30.152329",
     "status": "completed"
    },
    "tags": []
   },
   "outputs": [
    {
     "name": "stdout",
     "output_type": "stream",
     "text": [
      "<class 'pandas.core.frame.DataFrame'>\n",
      "Int64Index: 19225 entries, 1 to 19238\n",
      "Data columns (total 7 columns):\n",
      " #   Column          Non-Null Count  Dtype  \n",
      "---  ------          --------------  -----  \n",
      " 0   Order Status    19225 non-null  object \n",
      " 1   Book Name       19225 non-null  object \n",
      " 2   City            19225 non-null  object \n",
      " 3   Payment Method  19225 non-null  object \n",
      " 4   Total items     19225 non-null  int64  \n",
      " 5   Weight(grams)   19225 non-null  float64\n",
      " 6   date            19225 non-null  object \n",
      "dtypes: float64(1), int64(1), object(5)\n",
      "memory usage: 1.2+ MB\n"
     ]
    }
   ],
   "source": [
    "data.groupby([\"City\",\"Book Name\"])[\"date\"].value_counts().head(50)\n",
    "data.info()"
   ]
  },
  {
   "cell_type": "code",
   "execution_count": null,
   "metadata": {
    "execution": {
     "iopub.execute_input": "2022-07-27T16:56:23.279201Z",
     "iopub.status.busy": "2022-07-27T16:56:23.278549Z",
     "iopub.status.idle": "2022-07-27T16:56:23.307704Z",
     "shell.execute_reply": "2022-07-27T16:56:23.306045Z",
     "shell.execute_reply.started": "2022-07-27T16:56:23.279149Z"
    },
    "papermill": {
     "duration": 0.030798,
     "end_time": "2022-07-31T13:43:30.301039",
     "exception": false,
     "start_time": "2022-07-31T13:43:30.270241",
     "status": "completed"
    },
    "tags": []
   },
   "outputs": [],
   "source": []
  },
  {
   "cell_type": "code",
   "execution_count": null,
   "metadata": {
    "papermill": {
     "duration": 0.031103,
     "end_time": "2022-07-31T13:43:30.363633",
     "exception": false,
     "start_time": "2022-07-31T13:43:30.332530",
     "status": "completed"
    },
    "tags": []
   },
   "outputs": [],
   "source": []
  }
 ],
 "metadata": {
  "kernelspec": {
   "display_name": "Python 3",
   "language": "python",
   "name": "python3"
  },
  "language_info": {
   "codemirror_mode": {
    "name": "ipython",
    "version": 3
   },
   "file_extension": ".py",
   "mimetype": "text/x-python",
   "name": "python",
   "nbconvert_exporter": "python",
   "pygments_lexer": "ipython3",
   "version": "3.7.6"
  },
  "papermill": {
   "duration": 9.236111,
   "end_time": "2022-07-31T13:43:30.502058",
   "environment_variables": {},
   "exception": null,
   "input_path": "__notebook__.ipynb",
   "output_path": "__notebook__.ipynb",
   "parameters": {},
   "start_time": "2022-07-31T13:43:21.265947",
   "version": "2.1.0"
  }
 },
 "nbformat": 4,
 "nbformat_minor": 4
}
